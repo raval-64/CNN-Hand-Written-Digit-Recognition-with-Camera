{
 "cells": [
  {
   "cell_type": "code",
   "execution_count": 8,
   "metadata": {},
   "outputs": [],
   "source": [
    "import keras\n",
    "import numpy as np\n",
    "import matplotlib.pyplot as plt\n",
    "from keras.datasets import mnist"
   ]
  },
  {
   "cell_type": "code",
   "execution_count": 92,
   "metadata": {},
   "outputs": [],
   "source": [
    "(x_train, y_train), (x_test, y_test) = mnist.load_data()"
   ]
  },
  {
   "cell_type": "code",
   "execution_count": 93,
   "metadata": {},
   "outputs": [
    {
     "data": {
      "image/png": "[encoded data removed]",
      "text/plain": [
       "<Figure size 720x288 with 1 Axes>"
      ]
     },
     "metadata": {
      "needs_background": "light"
     },
     "output_type": "display_data"
    }
   ],
   "source": [
    "plt.figure(figsize=[10,4])\n",
    "plt.imshow(x_test[3].reshape(28,28),cmap=\"gray\")\n",
    "plt.axis(False)\n",
    "plt.title(\"Ground Truth : {}\".format(y_test[3]))\n",
    "plt.show()"
   ]
  },
  {
   "cell_type": "code",
   "execution_count": 94,
   "metadata": {},
   "outputs": [
    {
     "name": "stdout",
     "output_type": "stream",
     "text": [
      "Training data shape :  (60000, 28, 28) (60000,)\n",
      "Testing data shape  :  (10000, 28, 28) (10000,)\n"
     ]
    }
   ],
   "source": [
    "print('Training data shape : ', x_train.shape, y_train.shape)\n",
    "print('Testing data shape  : ', x_test.shape, y_test.shape)\n",
    "single_feature=x_test.shape[1]*x_test.shape[2]"
   ]
  },
  {
   "cell_type": "code",
   "execution_count": 95,
   "metadata": {},
   "outputs": [
    {
     "name": "stdout",
     "output_type": "stream",
     "text": [
      "Total number of outputs :  10\n",
      "Output classes          :  [0 1 2 3 4 5 6 7 8 9]\n"
     ]
    }
   ],
   "source": [
    "classes = np.unique(y_train)\n",
    "nClasses = len(classes)\n",
    "img_rows, img_cols = 28, 28\n",
    "\n",
    "print('Total number of outputs : ', nClasses)\n",
    "print('Output classes          : ', classes)"
   ]
  },
  {
   "cell_type": "code",
   "execution_count": 96,
   "metadata": {},
   "outputs": [
    {
     "name": "stdout",
     "output_type": "stream",
     "text": [
      "x_train shape: (60000, 28, 28, 1)\n",
      "60000 train samples\n",
      "10000 test samples\n"
     ]
    }
   ],
   "source": [
    "from keras import backend as K\n",
    "if K.image_data_format() == 'channels_first':\n",
    "    x_train = x_train.reshape(x_train.shape[0], 1, img_rows, img_cols)\n",
    "    x_test = x_test.reshape(x_test.shape[0], 1, img_rows, img_cols)\n",
    "    input_shape = (1, img_rows, img_cols)\n",
    "else:\n",
    "    x_train = x_train.reshape(x_train.shape[0], img_rows, img_cols, 1)\n",
    "    x_test = x_test.reshape(x_test.shape[0], img_rows, img_cols, 1)\n",
    "    input_shape = (img_rows, img_cols, 1)\n",
    "x_train = x_train.astype('float32')\n",
    "x_test = x_test.astype('float32')\n",
    "x_train /= 255\n",
    "x_test /= 255\n",
    "print('x_train shape:', x_train.shape)\n",
    "print(x_train.shape[0], 'train samples')\n",
    "print(x_test.shape[0], 'test samples')"
   ]
  },
  {
   "cell_type": "code",
   "execution_count": null,
   "metadata": {},
   "outputs": [],
   "source": []
  },
  {
   "cell_type": "code",
   "execution_count": 97,
   "metadata": {},
   "outputs": [
    {
     "data": {
      "text/plain": [
       "(60000, 28, 28, 1)"
      ]
     },
     "execution_count": 97,
     "metadata": {},
     "output_type": "execute_result"
    }
   ],
   "source": [
    "x_train.shape"
   ]
  },
  {
   "cell_type": "code",
   "execution_count": 98,
   "metadata": {},
   "outputs": [],
   "source": [
    "y_train = keras.utils.to_categorical(y_train, nClasses)\n",
    "y_test = keras.utils.to_categorical(y_test, nClasses)"
   ]
  },
  {
   "cell_type": "code",
   "execution_count": 100,
   "metadata": {},
   "outputs": [
    {
     "name": "stdout",
     "output_type": "stream",
     "text": [
      "_________________________________________________________________\n",
      "Layer (type)                 Output Shape              Param #   \n",
      "=================================================================\n",
      "conv2d_48 (Conv2D)           (None, 28, 28, 32)        544       \n",
      "_________________________________________________________________\n",
      "max_pooling2d_46 (MaxPooling (None, 14, 14, 32)        0         \n",
      "_________________________________________________________________\n",
      "conv2d_49 (Conv2D)           (None, 14, 14, 16)        2064      \n",
      "_________________________________________________________________\n",
      "max_pooling2d_47 (MaxPooling (None, 7, 7, 16)          0         \n",
      "_________________________________________________________________\n",
      "flatten_15 (Flatten)         (None, 784)               0         \n",
      "_________________________________________________________________\n",
      "dense_57 (Dense)             (None, 512)               401920    \n",
      "_________________________________________________________________\n",
      "dropout_57 (Dropout)         (None, 512)               0         \n",
      "_________________________________________________________________\n",
      "dense_58 (Dense)             (None, 512)               262656    \n",
      "_________________________________________________________________\n",
      "dropout_58 (Dropout)         (None, 512)               0         \n",
      "_________________________________________________________________\n",
      "dense_59 (Dense)             (None, 512)               262656    \n",
      "_________________________________________________________________\n",
      "dropout_59 (Dropout)         (None, 512)               0         \n",
      "_________________________________________________________________\n",
      "dense_60 (Dense)             (None, 10)                5130      \n",
      "=================================================================\n",
      "Total params: 934,970\n",
      "Trainable params: 934,970\n",
      "Non-trainable params: 0\n",
      "_________________________________________________________________\n"
     ]
    }
   ],
   "source": [
    "from keras.models import Sequential\n",
    "from keras.layers import Conv2D, MaxPooling2D, Flatten, Dense, Dropout\n",
    "\n",
    "model = Sequential()\n",
    "model.add(Conv2D(32,(4,4),padding='same', activation='relu', input_shape=input_shape))\n",
    "model.add(MaxPooling2D(pool_size=(2, 2)))\n",
    "model.add(Conv2D(16,(2,2), padding='same', activation='relu'))\n",
    "model.add(MaxPooling2D(pool_size=(2, 2)))\n",
    "model.add(Flatten())\n",
    "model.add(Dense(512, activation='relu'))\n",
    "model.add(Dropout(0.2))\n",
    "model.add(Dense(512, activation='relu'))\n",
    "model.add(Dropout(0.2))\n",
    "model.add(Dense(512, activation='relu'))\n",
    "model.add(Dropout(0.2))\n",
    "model.add(Dense(nClasses, activation='softmax'))\n",
    "model.summary()"
   ]
  },
  {
   "cell_type": "code",
   "execution_count": 101,
   "metadata": {},
   "outputs": [
    {
     "name": "stderr",
     "output_type": "stream",
     "text": [
      "W0824 13:34:43.991303 140618988136192 deprecation.py:323] From /home/anon/.local/lib/python3.7/site-packages/tensorflow/python/ops/math_grad.py:1250: add_dispatch_support.<locals>.wrapper (from tensorflow.python.ops.array_ops) is deprecated and will be removed in a future version.\n",
      "Instructions for updating:\n",
      "Use tf.where in 2.0, which has the same broadcast rule as np.where\n"
     ]
    },
    {
     "name": "stdout",
     "output_type": "stream",
     "text": [
      "Train on 60000 samples, validate on 10000 samples\n",
      "Epoch 1/30\n",
      "60000/60000 [==============================] - 32s 530us/step - loss: 0.4215 - acc: 0.8712 - val_loss: 0.0798 - val_acc: 0.9750\n",
      "Epoch 2/30\n",
      "60000/60000 [==============================] - 31s 509us/step - loss: 0.0798 - acc: 0.9748 - val_loss: 0.0482 - val_acc: 0.9840\n",
      "Epoch 3/30\n",
      "60000/60000 [==============================] - 28s 470us/step - loss: 0.0506 - acc: 0.9840 - val_loss: 0.0369 - val_acc: 0.9878\n",
      "Epoch 4/30\n",
      "60000/60000 [==============================] - 42s 696us/step - loss: 0.0386 - acc: 0.9880 - val_loss: 0.0341 - val_acc: 0.9879\n",
      "Epoch 5/30\n",
      "60000/60000 [==============================] - 60s 1ms/step - loss: 0.0327 - acc: 0.9897 - val_loss: 0.0394 - val_acc: 0.9869\n",
      "Epoch 6/30\n",
      "60000/60000 [==============================] - 44s 726us/step - loss: 0.0285 - acc: 0.9913 - val_loss: 0.0305 - val_acc: 0.9905\n",
      "Epoch 7/30\n",
      "60000/60000 [==============================] - 43s 716us/step - loss: 0.0234 - acc: 0.9927 - val_loss: 0.0311 - val_acc: 0.9903\n",
      "Epoch 8/30\n",
      "60000/60000 [==============================] - 43s 716us/step - loss: 0.0235 - acc: 0.9927 - val_loss: 0.0314 - val_acc: 0.9905\n",
      "Epoch 9/30\n",
      "60000/60000 [==============================] - 43s 721us/step - loss: 0.0212 - acc: 0.9931 - val_loss: 0.0281 - val_acc: 0.9918\n",
      "Epoch 10/30\n",
      "60000/60000 [==============================] - 31s 517us/step - loss: 0.0153 - acc: 0.9950 - val_loss: 0.0264 - val_acc: 0.9923\n",
      "Epoch 11/30\n",
      "60000/60000 [==============================] - 31s 511us/step - loss: 0.0142 - acc: 0.9952 - val_loss: 0.0317 - val_acc: 0.9909\n",
      "Epoch 12/30\n",
      "60000/60000 [==============================] - 38s 629us/step - loss: 0.0137 - acc: 0.9957 - val_loss: 0.0331 - val_acc: 0.9895\n",
      "Epoch 13/30\n",
      "60000/60000 [==============================] - 39s 653us/step - loss: 0.0121 - acc: 0.9960 - val_loss: 0.0246 - val_acc: 0.9924\n",
      "Epoch 14/30\n",
      "60000/60000 [==============================] - 39s 655us/step - loss: 0.0094 - acc: 0.9970 - val_loss: 0.0436 - val_acc: 0.9893\n",
      "Epoch 15/30\n",
      "60000/60000 [==============================] - 35s 576us/step - loss: 0.0106 - acc: 0.9964 - val_loss: 0.0354 - val_acc: 0.9913\n",
      "Epoch 16/30\n",
      "60000/60000 [==============================] - 30s 496us/step - loss: 0.0101 - acc: 0.9968 - val_loss: 0.0294 - val_acc: 0.9919\n",
      "Epoch 17/30\n",
      "60000/60000 [==============================] - 29s 485us/step - loss: 0.0081 - acc: 0.9973 - val_loss: 0.0368 - val_acc: 0.9907\n",
      "Epoch 18/30\n",
      "60000/60000 [==============================] - 30s 493us/step - loss: 0.0091 - acc: 0.9971 - val_loss: 0.0350 - val_acc: 0.9909\n",
      "Epoch 19/30\n",
      "60000/60000 [==============================] - 34s 560us/step - loss: 0.0108 - acc: 0.9964 - val_loss: 0.0325 - val_acc: 0.9910\n",
      "Epoch 20/30\n",
      "60000/60000 [==============================] - 36s 597us/step - loss: 0.0078 - acc: 0.9976 - val_loss: 0.0385 - val_acc: 0.9898\n",
      "Epoch 21/30\n",
      "60000/60000 [==============================] - 31s 520us/step - loss: 0.0069 - acc: 0.9978 - val_loss: 0.0378 - val_acc: 0.9909\n",
      "Epoch 22/30\n",
      "60000/60000 [==============================] - 31s 523us/step - loss: 0.0071 - acc: 0.9976 - val_loss: 0.0328 - val_acc: 0.9907\n",
      "Epoch 23/30\n",
      "60000/60000 [==============================] - 31s 519us/step - loss: 0.0061 - acc: 0.9981 - val_loss: 0.0394 - val_acc: 0.9907\n",
      "Epoch 24/30\n",
      "60000/60000 [==============================] - 31s 512us/step - loss: 0.0052 - acc: 0.9984 - val_loss: 0.0387 - val_acc: 0.9914\n",
      "Epoch 25/30\n",
      "60000/60000 [==============================] - 31s 524us/step - loss: 0.0066 - acc: 0.9979 - val_loss: 0.0321 - val_acc: 0.9924\n",
      "Epoch 26/30\n",
      "60000/60000 [==============================] - 31s 518us/step - loss: 0.0086 - acc: 0.9972 - val_loss: 0.0368 - val_acc: 0.9906\n",
      "Epoch 27/30\n",
      "60000/60000 [==============================] - 31s 511us/step - loss: 0.0059 - acc: 0.9983 - val_loss: 0.0360 - val_acc: 0.9918\n",
      "Epoch 28/30\n",
      "60000/60000 [==============================] - 31s 522us/step - loss: 0.0051 - acc: 0.9983 - val_loss: 0.0401 - val_acc: 0.9909\n",
      "Epoch 29/30\n",
      "60000/60000 [==============================] - 31s 514us/step - loss: 0.0050 - acc: 0.9984 - val_loss: 0.0362 - val_acc: 0.9908\n",
      "Epoch 30/30\n",
      "60000/60000 [==============================] - 31s 514us/step - loss: 0.0070 - acc: 0.9978 - val_loss: 0.0434 - val_acc: 0.9900\n"
     ]
    }
   ],
   "source": [
    "model.compile(optimizer='adam',loss='categorical_crossentropy',metrics=['accuracy'])\n",
    "history = model.fit(x_train, y_train, \n",
    "                            batch_size=512, epochs=30, verbose=1, \n",
    "                            validation_data=(x_test, y_test))"
   ]
  },
  {
   "cell_type": "code",
   "execution_count": 106,
   "metadata": {},
   "outputs": [
    {
     "data": {
      "text/plain": [
       "array([0])"
      ]
     },
     "execution_count": 106,
     "metadata": {},
     "output_type": "execute_result"
    }
   ],
   "source": [
    "model.predict_classes(x_test[3].reshape(-1,28,28,1))"
   ]
  },
  {
   "cell_type": "code",
   "execution_count": 107,
   "metadata": {},
   "outputs": [
    {
     "name": "stdout",
     "output_type": "stream",
     "text": [
      "\n",
      " Test accuracy: 0.99\n"
     ]
    }
   ],
   "source": [
    "score = model.evaluate(x_test, y_test, verbose=0)\n",
    "print('\\n', 'Test accuracy:', score[1])\n",
    "model.save('mycnn_model.h5')"
   ]
  },
  {
   "cell_type": "code",
   "execution_count": 1,
   "metadata": {},
   "outputs": [
    {
     "name": "stderr",
     "output_type": "stream",
     "text": [
      "Using TensorFlow backend.\n"
     ]
    }
   ],
   "source": [
    "from keras.models import load_model"
   ]
  },
  {
   "cell_type": "code",
   "execution_count": 2,
   "metadata": {},
   "outputs": [
    {
     "name": "stderr",
     "output_type": "stream",
     "text": [
      "WARNING: Logging before flag parsing goes to stderr.\n",
      "W0831 17:50:42.144032 140311424661248 deprecation_wrapper.py:119] From /home/anon/.local/lib/python3.7/site-packages/keras/backend/tensorflow_backend.py:517: The name tf.placeholder is deprecated. Please use tf.compat.v1.placeholder instead.\n",
      "\n",
      "W0831 17:50:42.159077 140311424661248 deprecation_wrapper.py:119] From /home/anon/.local/lib/python3.7/site-packages/keras/backend/tensorflow_backend.py:4138: The name tf.random_uniform is deprecated. Please use tf.random.uniform instead.\n",
      "\n",
      "W0831 17:50:42.194297 140311424661248 deprecation_wrapper.py:119] From /home/anon/.local/lib/python3.7/site-packages/keras/backend/tensorflow_backend.py:3976: The name tf.nn.max_pool is deprecated. Please use tf.nn.max_pool2d instead.\n",
      "\n",
      "W0831 17:50:42.253337 140311424661248 deprecation_wrapper.py:119] From /home/anon/.local/lib/python3.7/site-packages/keras/backend/tensorflow_backend.py:131: The name tf.get_default_graph is deprecated. Please use tf.compat.v1.get_default_graph instead.\n",
      "\n",
      "W0831 17:50:42.254021 140311424661248 deprecation_wrapper.py:119] From /home/anon/.local/lib/python3.7/site-packages/keras/backend/tensorflow_backend.py:133: The name tf.placeholder_with_default is deprecated. Please use tf.compat.v1.placeholder_with_default instead.\n",
      "\n",
      "W0831 17:50:42.335138 140311424661248 deprecation.py:506] From /home/anon/.local/lib/python3.7/site-packages/keras/backend/tensorflow_backend.py:3445: calling dropout (from tensorflow.python.ops.nn_ops) with keep_prob is deprecated and will be removed in a future version.\n",
      "Instructions for updating:\n",
      "Please use `rate` instead of `keep_prob`. Rate should be set to `rate = 1 - keep_prob`.\n",
      "W0831 17:50:42.451261 140311424661248 deprecation_wrapper.py:119] From /home/anon/.local/lib/python3.7/site-packages/keras/backend/tensorflow_backend.py:174: The name tf.get_default_session is deprecated. Please use tf.compat.v1.get_default_session instead.\n",
      "\n",
      "W0831 17:50:42.588593 140311424661248 deprecation_wrapper.py:119] From /home/anon/.local/lib/python3.7/site-packages/keras/optimizers.py:790: The name tf.train.Optimizer is deprecated. Please use tf.compat.v1.train.Optimizer instead.\n",
      "\n",
      "W0831 17:50:42.691520 140311424661248 deprecation.py:323] From /home/anon/.local/lib/python3.7/site-packages/tensorflow/python/ops/math_grad.py:1250: add_dispatch_support.<locals>.wrapper (from tensorflow.python.ops.array_ops) is deprecated and will be removed in a future version.\n",
      "Instructions for updating:\n",
      "Use tf.where in 2.0, which has the same broadcast rule as np.where\n"
     ]
    }
   ],
   "source": [
    "model_l = load_model('mycnn_model.h5')"
   ]
  },
  {
   "cell_type": "code",
   "execution_count": 3,
   "metadata": {},
   "outputs": [],
   "source": [
    "import cv2"
   ]
  },
  {
   "cell_type": "code",
   "execution_count": 4,
   "metadata": {},
   "outputs": [],
   "source": [
    "y = 150\n",
    "h = 300\n",
    "x = 150\n",
    "w = 300\n",
    "font = cv2.FONT_HERSHEY_SIMPLEX\n",
    "bottomLeftCornerOfText = (272,480)\n",
    "fontScale = 1\n",
    "fontColor = (255,255,255)\n",
    "lineType = 2\n",
    "dim = (28, 28)"
   ]
  },
  {
   "cell_type": "code",
   "execution_count": 5,
   "metadata": {},
   "outputs": [],
   "source": [
    "cap = cv2.VideoCapture(0)\n",
    "cap.set(3,1200)\n",
    "cap.set(4,700)\n",
    "while(True):\n",
    "    ret, frame = cap.read()\n",
    "    cv2.rectangle(frame,(150,150),(450,450),(211,211,211),2)\n",
    "    crop_img = frame[y:y+h, x:x+w]\n",
    "    gray = cv2.cvtColor(crop_img, cv2.COLOR_BGR2GRAY)\n",
    "    (thresh, gray1) = cv2.threshold(gray, 128, 255, cv2.THRESH_BINARY | cv2.THRESH_OTSU)\n",
    "    gray1 = cv2.resize(255-gray1, (28, 28))\n",
    "    n=gray1.reshape(-1,28,28,1).astype('float32')/255\n",
    "    m=model_l.predict_classes(n)\n",
    "    cv2.putText(frame,str(m),bottomLeftCornerOfText, font, fontScale, fontColor, lineType)\n",
    "    cv2.imshow('Crop',gray1)\n",
    "    cv2.imshow('Full Video',frame)\n",
    "    if cv2.waitKey(1) & 0xFF ==ord('q'):\n",
    "        break\n",
    "cap.release()\n",
    "cv2.destroyAllWindows()"
   ]
  },
  {
   "cell_type": "code",
   "execution_count": null,
   "metadata": {},
   "outputs": [],
   "source": []
  }
 ],
 "metadata": {
  "kernelspec": {
   "display_name": "Python 3",
   "language": "python",
   "name": "python3"
  },
  "language_info": {
   "codemirror_mode": {
    "name": "ipython",
    "version": 3
   },
   "file_extension": ".py",
   "mimetype": "text/x-python",
   "name": "python",
   "nbconvert_exporter": "python",
   "pygments_lexer": "ipython3",
   "version": "3.7.3"
  }
 },
 "nbformat": 4,
 "nbformat_minor": 2
}
